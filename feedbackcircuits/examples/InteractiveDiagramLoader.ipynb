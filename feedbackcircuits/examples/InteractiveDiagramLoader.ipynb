{
 "cells": [
  {
   "cell_type": "markdown",
   "id": "d6f61b3a-ec08-41fd-ae6f-01eef2596634",
   "metadata": {},
   "source": [
    "# Load Interactive Diagram\n",
    "\n",
    "This notebook shows an example of loading an interactive diagram of the antennal lobe using FlyBrainLab. Simply execute the following cells and you can load a pregenerated diagram."
   ]
  },
  {
   "cell_type": "code",
   "execution_count": null,
   "id": "frank-noise",
   "metadata": {},
   "outputs": [],
   "source": [
    "my_client = fbl.get_client()\n",
    "\n",
    "with open('G_auto_new3.svg', 'r') as file:\n",
    "    data = file.read()\n",
    "\n",
    "my_client.tryComms({'widget':'GFX', \n",
    "                    'messageType': 'loadCircuitFromString', \n",
    "                    'data': {'string':data, 'name':'custom'}})"
   ]
  },
  {
   "cell_type": "code",
   "execution_count": null,
   "id": "insured-scoop",
   "metadata": {},
   "outputs": [],
   "source": [
    "my_client.tryComms({'widget':'GFX', \n",
    "                    'messageType': 'eval', \n",
    "                    'data': {'data':\"window.fbl.loadSubmodule('data/FBLSubmodules/onGraphVizLoadFree.js');\", 'name':'custom'}})"
   ]
  },
  {
   "cell_type": "code",
   "execution_count": null,
   "id": "formal-whale",
   "metadata": {},
   "outputs": [],
   "source": [
    "with open('additional_conn.js','r') as f:\n",
    "    additional_data = f.read()\n",
    "    \n",
    "my_client.tryComms({'widget':'GFX', \n",
    "                    'messageType': 'eval', \n",
    "                    'data': {'data':additional_data, 'name':'custom'}})"
   ]
  }
 ],
 "metadata": {
  "kernelspec": {
   "display_name": "Python 3 (ipykernel)",
   "language": "python",
   "name": "python3"
  },
  "language_info": {
   "codemirror_mode": {
    "name": "ipython",
    "version": 3
   },
   "file_extension": ".py",
   "mimetype": "text/x-python",
   "name": "python",
   "nbconvert_exporter": "python",
   "pygments_lexer": "ipython3",
   "version": "3.7.12"
  }
 },
 "nbformat": 4,
 "nbformat_minor": 5
}
