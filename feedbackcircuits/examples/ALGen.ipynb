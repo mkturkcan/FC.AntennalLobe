{
 "cells": [
  {
   "cell_type": "code",
   "execution_count": 1,
   "id": "1b2c4afe",
   "metadata": {},
   "outputs": [
    {
     "name": "stdout",
     "output_type": "stream",
     "text": [
      "uniques 2615\n",
      "ORN uniques 1970\n",
      "PN uniques 333\n",
      "LN uniques 312\n",
      "#Nodes: 20756\n",
      "#Interactions: 9398\n"
     ]
    },
    {
     "name": "stderr",
     "output_type": "stream",
     "text": [
      "/home/mehmet/miniconda2/envs/tf36/lib/python3.6/site-packages/numpy/core/_asarray.py:136: VisibleDeprecationWarning: Creating an ndarray from ragged nested sequences (which is a list-or-tuple of lists-or-tuples-or ndarrays with different lengths or shapes) is deprecated. If you meant to do this, you must specify 'dtype=object' when creating the ndarray\n",
      "  return array(a, dtype, copy=False, order=order, subok=True)\n"
     ]
    }
   ],
   "source": [
    "# Download the data folder at https://drive.google.com/drive/folders/1HlgpnZLQCwkwjeOOuV7SD2ndWkVsr21F?usp=sharing\n",
    "# to this folder\n",
    "\n",
    "import sys\n",
    "sys.path.append(\"..\")\n",
    "from subpackages.antennallobe.antennal_lobe_circuits import *\n",
    "generate_simple_al()"
   ]
  },
  {
   "cell_type": "code",
   "execution_count": null,
   "id": "750e4b7e",
   "metadata": {},
   "outputs": [],
   "source": []
  }
 ],
 "metadata": {
  "kernelspec": {
   "display_name": "Python 3",
   "language": "python",
   "name": "python3"
  },
  "language_info": {
   "codemirror_mode": {
    "name": "ipython",
    "version": 3
   },
   "file_extension": ".py",
   "mimetype": "text/x-python",
   "name": "python",
   "nbconvert_exporter": "python",
   "pygments_lexer": "ipython3",
   "version": "3.6.7"
  }
 },
 "nbformat": 4,
 "nbformat_minor": 5
}
