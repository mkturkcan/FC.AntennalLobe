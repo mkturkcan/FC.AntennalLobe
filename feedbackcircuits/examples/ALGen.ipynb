{
 "cells": [
  {
   "cell_type": "code",
   "execution_count": 2,
   "id": "32f33219",
   "metadata": {},
   "outputs": [
    {
     "name": "stdout",
     "output_type": "stream",
     "text": [
      "uniques 2615\n",
      "ORN uniques 1970\n",
      "PN uniques 333\n",
      "LN uniques 312\n",
      "#Nodes: 20756\n",
      "#Interactions: 9398\n"
     ]
    },
    {
     "name": "stderr",
     "output_type": "stream",
     "text": [
      "/home/mehmet/miniconda2/envs/tf36/lib/python3.6/site-packages/numpy/core/_asarray.py:136: VisibleDeprecationWarning: Creating an ndarray from ragged nested sequences (which is a list-or-tuple of lists-or-tuples-or ndarrays with different lengths or shapes) is deprecated. If you meant to do this, you must specify 'dtype=object' when creating the ndarray\n",
      "  return array(a, dtype, copy=False, order=order, subok=True)\n"
     ]
    }
   ],
   "source": [
    "# Download the data folder at https://drive.google.com/drive/folders/1HlgpnZLQCwkwjeOOuV7SD2ndWkVsr21F?usp=sharing\n",
    "# to this folder\n",
    "\n",
    "import sys\n",
    "sys.path.append(\"..\")\n",
    "from subpackages.antennallobe.antennal_lobe_circuits import *\n",
    "generate_simple_al()"
   ]
  },
  {
   "cell_type": "markdown",
   "id": "1d07eb04",
   "metadata": {},
   "source": [
    "# An Antennal Lobe Setup with 3 Fundamental Feedback LNs"
   ]
  },
  {
   "cell_type": "code",
   "execution_count": 3,
   "id": "2c79a2d7",
   "metadata": {},
   "outputs": [
    {
     "name": "stdout",
     "output_type": "stream",
     "text": [
      "#Nodes: 318\n",
      "#Interactions: 60\n"
     ]
    },
    {
     "name": "stderr",
     "output_type": "stream",
     "text": [
      "/home/mehmet/miniconda2/envs/tf36/lib/python3.6/site-packages/numpy/core/_asarray.py:136: VisibleDeprecationWarning: Creating an ndarray from ragged nested sequences (which is a list-or-tuple of lists-or-tuples-or ndarrays with different lengths or shapes) is deprecated. If you meant to do this, you must specify 'dtype=object' when creating the ndarray\n",
      "  return array(a, dtype, copy=False, order=order, subok=True)\n"
     ]
    }
   ],
   "source": [
    "nov_ORN_uniques = [i for i in ORN_uniques if 'DM4' in i]\n",
    "nov_PN_uniques = [i for i in PN_uniques if 'DM4' in i and 'ad' in i]\n",
    "nov_LN_uniques = ['LN_1', 'LN_2', 'LN_3']\n",
    "nov_PN_LN_pos = {}\n",
    "nov_LN_LN_pos = {}\n",
    "nov_LN_PN_pos = {}\n",
    "\n",
    "nov_ORN_LN_pos = {}\n",
    "nov_LN_ORN_pos = {}\n",
    "\n",
    "for i in nov_LN_uniques:\n",
    "    nov_LN_ORN_pos[i] = {}\n",
    "    nov_LN_LN_pos[i] = {}\n",
    "    \n",
    "for i in ['LN_3']:\n",
    "    for j in nov_LN_uniques:\n",
    "        nov_LN_LN_pos[i][j] = np.zeros((100,3))\n",
    "        nov_LN_LN_pos[j][i] = np.zeros((100,3))\n",
    "    \n",
    "for i in nov_ORN_uniques:\n",
    "    nov_ORN_LN_pos[i] = {}\n",
    "    for j in ['LN_1']:\n",
    "        nov_ORN_LN_pos[i][j] = np.zeros((100,3))\n",
    "        \n",
    "for i in ['LN_1']:\n",
    "    nov_LN_ORN_pos[i] = {}\n",
    "    for j in nov_ORN_uniques:\n",
    "        nov_LN_ORN_pos[i][j] = np.zeros((100,3))\n",
    "        \n",
    "for i in nov_PN_uniques:\n",
    "    nov_PN_LN_pos[i] = {}\n",
    "    for j in ['LN_2']:\n",
    "        nov_PN_LN_pos[i][j] = np.zeros((100,3))\n",
    "        \n",
    "for i in ['LN_2']:\n",
    "    nov_LN_PN_pos[i] = {}\n",
    "    for j in nov_PN_uniques:\n",
    "        nov_LN_PN_pos[i][j] = np.zeros((100,3))\n",
    "\n",
    "cell_groups = {'ORNs': nov_ORN_uniques, \n",
    "               'PNs': nov_PN_uniques, \n",
    "               \"LNs\": nov_LN_uniques}\n",
    "\n",
    "synapse_groups = {'ORNs-PNs': ORN_PN_pos, 'ORNs-LNs': nov_ORN_LN_pos, 'LNs-PNs': nov_LN_PN_pos, 'PNs-LNs': nov_PN_LN_pos, 'LNs-ORNs': nov_LN_ORN_pos, 'LNs-LNs': nov_LN_LN_pos}\n",
    "neuron_models, synapse_models, interaction_models = setup_spiking_default(ORN_LN_gain=10., ORN_PN_gain=15., LN_PN_gain=2., PN_LN_gain=40., interaction_gain=2e-3)\n",
    "\n",
    "spiking_circuit_simple(cell_groups, synapse_groups, neuron_models, synapse_models, interaction_models, name='DM4_novstart2_all', syn_filter=5)"
   ]
  }
 ],
 "metadata": {
  "kernelspec": {
   "display_name": "Python 3",
   "language": "python",
   "name": "python3"
  },
  "language_info": {
   "codemirror_mode": {
    "name": "ipython",
    "version": 3
   },
   "file_extension": ".py",
   "mimetype": "text/x-python",
   "name": "python",
   "nbconvert_exporter": "python",
   "pygments_lexer": "ipython3",
   "version": "3.6.7"
  }
 },
 "nbformat": 4,
 "nbformat_minor": 5
}
